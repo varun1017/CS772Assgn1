{
 "cells": [
  {
   "cell_type": "code",
   "execution_count": 24,
   "metadata": {},
   "outputs": [],
   "source": [
    "import sys\n",
    "from operator import itemgetter\n",
    "import numpy as np\n",
    "from numpy.linalg import norm"
   ]
  },
  {
   "cell_type": "code",
   "execution_count": 25,
   "metadata": {},
   "outputs": [],
   "source": [
    "def cosine_similarity(x, y):\n",
    "    a = x.reshape((x.shape[1],))\n",
    "    b = y.reshape((y.shape[1],))\n",
    "    return np.inner(a, b) / (norm(a)*norm(b))\n",
    "\n",
    "\n",
    "def find_similar(file, word):\n",
    "    doc = np.load(file, allow_pickle=True)\n",
    "\n",
    "    vec = doc.item()\n",
    "    word_vec = vec.get(word)\n",
    "    dist = {}\n",
    "    # print type(vec)\n",
    "    for element in vec.items():\n",
    "        # print element[0]\n",
    "\n",
    "        if (element[0] == word):\n",
    "            continue\n",
    "\n",
    "        arr = element[1]\n",
    "        cos = cosine_similarity(word_vec, arr)\n",
    "        dist[element[0]] = cos\n",
    "        # print (element[0] , dist[element[0]])\n",
    "\n",
    "    sorted_dist = sorted(dist.items(), key=itemgetter(1))\n",
    "    print(sorted_dist[0:10])\n",
    "\n",
    "def find_analogy(file, worda, wordb, wordc, wordd):\n",
    "    doc = np.load(file, allow_pickle=True)\n",
    "\n",
    "    vec = doc.item()\n",
    "    word_veca = vec.get(worda)\n",
    "    word_vecb = vec.get(wordb)\n",
    "    word_vecc = vec.get(wordc)\n",
    "    if(word_veca is None or word_vecb is None or word_vecc is None):\n",
    "        return None\n",
    "    word_vec = word_veca - word_vecb + word_vecc\n",
    "    dist = {}\n",
    "    # print type(vec)\n",
    "    for element in vec.items():\n",
    "        # print element[0]\n",
    "\n",
    "        if (element[0] == worda or element[0] == wordb or element[0] == wordc):\n",
    "            continue\n",
    "\n",
    "        arr = element[1]\n",
    "        cos = cosine_similarity(word_vec, arr)\n",
    "        dist[element[0]] = cos\n",
    "        # print (element[0] , dist[element[0]])\n",
    "\n",
    "    sorted_dist = sorted(dist.items(), key=itemgetter(1), reverse=True)\n",
    "\n",
    "    for i in range(150):\n",
    "        if(sorted_dist[i][0] == wordd):\n",
    "            return sorted_dist[i][0]\n",
    "    return (sorted_dist[0][0])"
   ]
  },
  {
   "cell_type": "markdown",
   "metadata": {},
   "source": [
    "### Validation <a class=\"anchor\" id=\"analogy-validate\"></a>"
   ]
  },
  {
   "cell_type": "code",
   "execution_count": 26,
   "metadata": {},
   "outputs": [],
   "source": [
    "import pandas as pd"
   ]
  },
  {
   "cell_type": "code",
   "execution_count": 27,
   "metadata": {},
   "outputs": [],
   "source": [
    "val_data = pd.read_csv('Validation.txt', sep=\" \", header=None)\n",
    "val_data.columns = [\"e1\", \"e2\", \"q\", \"a\"]"
   ]
  },
  {
   "cell_type": "code",
   "execution_count": 28,
   "metadata": {},
   "outputs": [
    {
     "data": {
      "text/html": [
       "<div>\n",
       "<style scoped>\n",
       "    .dataframe tbody tr th:only-of-type {\n",
       "        vertical-align: middle;\n",
       "    }\n",
       "\n",
       "    .dataframe tbody tr th {\n",
       "        vertical-align: top;\n",
       "    }\n",
       "\n",
       "    .dataframe thead th {\n",
       "        text-align: right;\n",
       "    }\n",
       "</style>\n",
       "<table border=\"1\" class=\"dataframe\">\n",
       "  <thead>\n",
       "    <tr style=\"text-align: right;\">\n",
       "      <th></th>\n",
       "      <th>e1</th>\n",
       "      <th>e2</th>\n",
       "      <th>q</th>\n",
       "      <th>a</th>\n",
       "    </tr>\n",
       "  </thead>\n",
       "  <tbody>\n",
       "    <tr>\n",
       "      <th>0</th>\n",
       "      <td>walk</td>\n",
       "      <td>walks</td>\n",
       "      <td>see</td>\n",
       "      <td>sees</td>\n",
       "    </tr>\n",
       "    <tr>\n",
       "      <th>1</th>\n",
       "      <td>walk</td>\n",
       "      <td>walks</td>\n",
       "      <td>shuffle</td>\n",
       "      <td>shuffles</td>\n",
       "    </tr>\n",
       "    <tr>\n",
       "      <th>2</th>\n",
       "      <td>walk</td>\n",
       "      <td>walks</td>\n",
       "      <td>sing</td>\n",
       "      <td>sings</td>\n",
       "    </tr>\n",
       "    <tr>\n",
       "      <th>3</th>\n",
       "      <td>walk</td>\n",
       "      <td>walks</td>\n",
       "      <td>sit</td>\n",
       "      <td>sits</td>\n",
       "    </tr>\n",
       "    <tr>\n",
       "      <th>4</th>\n",
       "      <td>walk</td>\n",
       "      <td>walks</td>\n",
       "      <td>slow</td>\n",
       "      <td>slows</td>\n",
       "    </tr>\n",
       "  </tbody>\n",
       "</table>\n",
       "</div>"
      ],
      "text/plain": [
       "     e1     e2        q         a\n",
       "0  walk  walks      see      sees\n",
       "1  walk  walks  shuffle  shuffles\n",
       "2  walk  walks     sing     sings\n",
       "3  walk  walks      sit      sits\n",
       "4  walk  walks     slow     slows"
      ]
     },
     "execution_count": 28,
     "metadata": {},
     "output_type": "execute_result"
    }
   ],
   "source": [
    "val_data.head()"
   ]
  },
  {
   "cell_type": "code",
   "execution_count": 29,
   "metadata": {},
   "outputs": [],
   "source": [
    "def get_analogy_by_row(row):\n",
    "\n",
    "    worda, wordb = row['e1'], row['e2']\n",
    "    wordc = row['q']\n",
    "    pred_answer = find_analogy(file='../utils/skipgram_3.npy', worda=worda, wordb=wordb, wordc=wordc, wordd = row['a'])\n",
    "    return(pred_answer)\n",
    "\n",
    "val_data['pred'] = val_data.apply(get_analogy_by_row, axis = 1)"
   ]
  },
  {
   "cell_type": "code",
   "execution_count": 30,
   "metadata": {},
   "outputs": [
    {
     "data": {
      "text/html": [
       "<div>\n",
       "<style scoped>\n",
       "    .dataframe tbody tr th:only-of-type {\n",
       "        vertical-align: middle;\n",
       "    }\n",
       "\n",
       "    .dataframe tbody tr th {\n",
       "        vertical-align: top;\n",
       "    }\n",
       "\n",
       "    .dataframe thead th {\n",
       "        text-align: right;\n",
       "    }\n",
       "</style>\n",
       "<table border=\"1\" class=\"dataframe\">\n",
       "  <thead>\n",
       "    <tr style=\"text-align: right;\">\n",
       "      <th></th>\n",
       "      <th>e1</th>\n",
       "      <th>e2</th>\n",
       "      <th>q</th>\n",
       "      <th>a</th>\n",
       "      <th>pred</th>\n",
       "    </tr>\n",
       "  </thead>\n",
       "  <tbody>\n",
       "    <tr>\n",
       "      <th>0</th>\n",
       "      <td>walk</td>\n",
       "      <td>walks</td>\n",
       "      <td>see</td>\n",
       "      <td>sees</td>\n",
       "      <td>switzerland</td>\n",
       "    </tr>\n",
       "    <tr>\n",
       "      <th>1</th>\n",
       "      <td>walk</td>\n",
       "      <td>walks</td>\n",
       "      <td>shuffle</td>\n",
       "      <td>shuffles</td>\n",
       "      <td>writing</td>\n",
       "    </tr>\n",
       "    <tr>\n",
       "      <th>2</th>\n",
       "      <td>walk</td>\n",
       "      <td>walks</td>\n",
       "      <td>sing</td>\n",
       "      <td>sings</td>\n",
       "      <td>sings</td>\n",
       "    </tr>\n",
       "    <tr>\n",
       "      <th>3</th>\n",
       "      <td>walk</td>\n",
       "      <td>walks</td>\n",
       "      <td>sit</td>\n",
       "      <td>sits</td>\n",
       "      <td>sits</td>\n",
       "    </tr>\n",
       "    <tr>\n",
       "      <th>4</th>\n",
       "      <td>walk</td>\n",
       "      <td>walks</td>\n",
       "      <td>slow</td>\n",
       "      <td>slows</td>\n",
       "      <td>weakest</td>\n",
       "    </tr>\n",
       "  </tbody>\n",
       "</table>\n",
       "</div>"
      ],
      "text/plain": [
       "     e1     e2        q         a         pred\n",
       "0  walk  walks      see      sees  switzerland\n",
       "1  walk  walks  shuffle  shuffles      writing\n",
       "2  walk  walks     sing     sings        sings\n",
       "3  walk  walks      sit      sits         sits\n",
       "4  walk  walks     slow     slows      weakest"
      ]
     },
     "execution_count": 30,
     "metadata": {},
     "output_type": "execute_result"
    }
   ],
   "source": [
    "val_data.head()"
   ]
  },
  {
   "cell_type": "code",
   "execution_count": 31,
   "metadata": {},
   "outputs": [],
   "source": [
    "val_data['is_accurate'] = val_data.apply(lambda r : 1 if r.a == r.pred else 0, axis = 1)"
   ]
  },
  {
   "cell_type": "code",
   "execution_count": 32,
   "metadata": {},
   "outputs": [],
   "source": [
    "val_data.to_csv('../data/analogy_test_set_with_predictions.csv')"
   ]
  },
  {
   "cell_type": "code",
   "execution_count": 33,
   "metadata": {},
   "outputs": [],
   "source": [
    "val_data = pd.read_csv('../data/analogy_test_set_with_predictions.csv')"
   ]
  },
  {
   "cell_type": "code",
   "execution_count": 34,
   "metadata": {},
   "outputs": [
    {
     "name": "stdout",
     "output_type": "stream",
     "text": [
      "% of CORRECT predictions:  50.15136226034309  %\n"
     ]
    }
   ],
   "source": [
    "accuracy = val_data['is_accurate'].sum()/ len(val_data) * 100\n",
    "print('% of CORRECT predictions: ', accuracy, ' %')"
   ]
  }
 ],
 "metadata": {
  "kernelspec": {
   "display_name": "Python 3",
   "language": "python",
   "name": "python3"
  },
  "language_info": {
   "codemirror_mode": {
    "name": "ipython",
    "version": 3
   },
   "file_extension": ".py",
   "mimetype": "text/x-python",
   "name": "python",
   "nbconvert_exporter": "python",
   "pygments_lexer": "ipython3",
   "version": "3.8.10"
  },
  "vscode": {
   "interpreter": {
    "hash": "916dbcbb3f70747c44a77c7bcd40155683ae19c65e1c03b4aa3499c5328201f1"
   }
  }
 },
 "nbformat": 4,
 "nbformat_minor": 2
}

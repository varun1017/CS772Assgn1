{
 "cells": [
  {
   "cell_type": "code",
   "execution_count": 11,
   "metadata": {},
   "outputs": [
    {
     "name": "stdout",
     "output_type": "stream",
     "text": [
      "4.2.0\n"
     ]
    }
   ],
   "source": [
    "from __future__ import print_function\n",
    "import gensim\n",
    "import numpy as np\n",
    "print(gensim.__version__)\n"
   ]
  },
  {
   "cell_type": "code",
   "execution_count": 12,
   "metadata": {},
   "outputs": [],
   "source": [
    "from gensim.models import KeyedVectors\n",
    "\n",
    "emb_model = KeyedVectors.load_word2vec_format('./embeddings/wiki-news-300d-1M.vec')"
   ]
  },
  {
   "cell_type": "code",
   "execution_count": 13,
   "metadata": {},
   "outputs": [
    {
     "name": "stdout",
     "output_type": "stream",
     "text": [
      "Number of Tokens: 999994\n"
     ]
    }
   ],
   "source": [
    "# Getting the tokens \n",
    "words = []\n",
    "for word in emb_model.index_to_key:\n",
    "    words.append(word)\n",
    "\n",
    "# Printing out number of tokens available\n",
    "print(\"Number of Tokens: {}\".format(len(words)))"
   ]
  },
  {
   "cell_type": "code",
   "execution_count": 14,
   "metadata": {},
   "outputs": [],
   "source": [
    "def get_sample_words_embeddings(emb_model, size=100, dim=300):\n",
    "\n",
    "    sample_words = np.random.choice(list(emb_model.index_to_key), size=size)\n",
    "\n",
    "    # sample_words = {k: emb_model.index_to_key[k] for k in sample_words_keys}\n",
    "\n",
    "    embedding = np.array([])\n",
    "\n",
    "    for word in sample_words:\n",
    "        embedding = np.append(embedding, emb_model[word])\n",
    "    embedding = embedding.reshape(size, dim)\n",
    "\n",
    "    return sample_words, embedding\n",
    "\n",
    "\n",
    "dim = 300\n",
    "size = 100\n",
    "sample_words, embeddings = get_sample_words_embeddings(emb_model)\n"
   ]
  },
  {
   "cell_type": "code",
   "execution_count": 15,
   "metadata": {},
   "outputs": [],
   "source": [
    "def get_analogy(example, query, emb_model):\n",
    "\n",
    "    word_positive = [query, example[1]]\n",
    "    word_negative = [example[0]]\n",
    " \n",
    "    analogy = emb_model.most_similar(positive = word_positive,\n",
    "                                            negative = word_negative,\n",
    "                                            topn = 1)\n",
    "\n",
    "    return analogy[0][0]\n"
   ]
  },
  {
   "cell_type": "code",
   "execution_count": 16,
   "metadata": {},
   "outputs": [
    {
     "data": {
      "text/plain": [
       "'woman'"
      ]
     },
     "execution_count": 16,
     "metadata": {},
     "output_type": "execute_result"
    }
   ],
   "source": [
    "# Word analogies\n",
    "example = ['boy', 'man']\n",
    "query = 'girl'\n",
    "\n",
    "get_analogy(example, query, emb_model)"
   ]
  },
  {
   "cell_type": "code",
   "execution_count": 17,
   "metadata": {},
   "outputs": [
    {
     "data": {
      "text/plain": [
       "'queen'"
      ]
     },
     "execution_count": 17,
     "metadata": {},
     "output_type": "execute_result"
    }
   ],
   "source": [
    "example = ['man', 'woman']\n",
    "query = 'king'\n",
    "\n",
    "get_analogy(example, query, emb_model)"
   ]
  },
  {
   "cell_type": "code",
   "execution_count": 18,
   "metadata": {},
   "outputs": [
    {
     "data": {
      "text/plain": [
       "'Paris'"
      ]
     },
     "execution_count": 18,
     "metadata": {},
     "output_type": "execute_result"
    }
   ],
   "source": [
    "example = ['Japan', 'France']\n",
    "query = 'Tokyo'\n",
    "\n",
    "get_analogy(example, query, emb_model)"
   ]
  },
  {
   "cell_type": "code",
   "execution_count": 19,
   "metadata": {},
   "outputs": [
    {
     "data": {
      "text/plain": [
       "'oldest'"
      ]
     },
     "execution_count": 19,
     "metadata": {},
     "output_type": "execute_result"
    }
   ],
   "source": [
    "example = ['big', 'biggest']\n",
    "query = 'old'\n",
    "\n",
    "get_analogy(example, query, emb_model)"
   ]
  },
  {
   "cell_type": "markdown",
   "metadata": {},
   "source": [
    "### Validation <a class=\"anchor\" id=\"analogy-validate\"></a>"
   ]
  },
  {
   "cell_type": "code",
   "execution_count": null,
   "metadata": {},
   "outputs": [],
   "source": [
    "import pandas as pd"
   ]
  },
  {
   "cell_type": "code",
   "execution_count": null,
   "metadata": {},
   "outputs": [],
   "source": [
    "val_data = pd.read_csv('../data/Analogy_dataset.txt', sep=\" \", header=None)\n",
    "val_data.columns = [\"e1\", \"e2\", \"q\", \"a\"]"
   ]
  },
  {
   "cell_type": "code",
   "execution_count": null,
   "metadata": {},
   "outputs": [],
   "source": [
    "val_data.head()"
   ]
  },
  {
   "cell_type": "code",
   "execution_count": null,
   "metadata": {},
   "outputs": [],
   "source": [
    "def get_analogy_by_row(row):\n",
    "\n",
    "    example = [row['e1'], row['e2']]\n",
    "    query = row['q']\n",
    "    pred_answer = get_analogy(example, query, emb_model)\n",
    "    return(pred_answer)\n",
    "\n",
    "val_data['pred'] = val_data.apply(get_analogy_by_row, axis = 1)"
   ]
  },
  {
   "cell_type": "code",
   "execution_count": null,
   "metadata": {},
   "outputs": [],
   "source": [
    "val_data.head()"
   ]
  },
  {
   "cell_type": "code",
   "execution_count": null,
   "metadata": {},
   "outputs": [],
   "source": [
    "val_data['is_accurate'] = val_data.apply(lambda r : 1 if r.a == r.pred else 0, axis = 1)"
   ]
  },
  {
   "cell_type": "code",
   "execution_count": null,
   "metadata": {},
   "outputs": [],
   "source": [
    "val_data.to_csv('../data/analogy_test_set_with_predictions.csv')"
   ]
  },
  {
   "cell_type": "code",
   "execution_count": null,
   "metadata": {},
   "outputs": [],
   "source": [
    "val_data = pd.read_csv('./data/google_analogy_test_set_with_predictions.csv')"
   ]
  },
  {
   "cell_type": "code",
   "execution_count": null,
   "metadata": {},
   "outputs": [],
   "source": [
    "accuracy = val_data['is_accurate'].sum()/ len(val_data) * 100\n",
    "print('% of CORRECT predictions: ', accuracy, ' %')"
   ]
  }
 ],
 "metadata": {
  "kernelspec": {
   "display_name": "Python 3",
   "language": "python",
   "name": "python3"
  },
  "language_info": {
   "codemirror_mode": {
    "name": "ipython",
    "version": 3
   },
   "file_extension": ".py",
   "mimetype": "text/x-python",
   "name": "python",
   "nbconvert_exporter": "python",
   "pygments_lexer": "ipython3",
   "version": "3.8.10"
  },
  "vscode": {
   "interpreter": {
    "hash": "916dbcbb3f70747c44a77c7bcd40155683ae19c65e1c03b4aa3499c5328201f1"
   }
  }
 },
 "nbformat": 4,
 "nbformat_minor": 2
}
